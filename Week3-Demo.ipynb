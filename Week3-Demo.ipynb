{
 "cells": [
  {
   "cell_type": "markdown",
   "metadata": {},
   "source": [
    "# Data Visualization with Seaborn "
   ]
  },
  {
   "cell_type": "markdown",
   "metadata": {},
   "source": [
    "## Table of Contents\n",
    "\n",
    "\n"
   ]
  },
  {
   "cell_type": "markdown",
   "metadata": {},
   "source": [
    "## 1. Introduction to Seaborn\n",
    "\n",
    "\n",
    "Seaborn is a data visualization library in Python. It is used to produce statistical graphics in Python. It is built on top of Matplotlib. It also supports NumPy and Pandas data structures. It also supports statistical units from SciPy.\n",
    "\n",
    "In the world of analytics, data visualization plays an important role to explore and understand the data. Seaborn is developed to make this process of exploring and understanding the data smooth. It provides a high-level interface to produce high quality statistical graphics. The customizability and backend options for Matplotlib makes it easy to generate publication-quality figures.\n",
    "\n",
    "In this project, I discuss Seaborn and present a high level overview of various plotting functions and tools associated with Seaborn.\n",
    "\n"
   ]
  },
  {
   "cell_type": "markdown",
   "metadata": {},
   "source": [
    "## 2. Comparison of Seaborn and Matplotlib\n",
    "\n",
    "Seaborn uses Matplotlib to draw plots. Many actions can be accomplished with only Seaborn functions. Further customization options might require using Matplotlib directly. Seaborn is not an alternative to Matplotlib. We can think of it as a complement to Matplotlib. As it is built on top of Matplotlib, we can call Matplotlib functions directly for creating simple plots.\n",
    "\n",
    "\n",
    "It is summarized that – \n",
    "\n",
    "\n",
    "“If Matplotlib tries to make easy things easy and hard things possible, Seaborn tries to make a well-defined set of hard things easy too in a well-defined way.” \n",
    "\n",
    "Seaborn helps to resolve two major problems faced by Matplotlib. The problems are:-\n",
    "\n",
    "1.\tWorking with Matplotlib’s default parameters\n",
    "\n",
    "2.\tWorking with data frames\n"
   ]
  },
  {
   "cell_type": "markdown",
   "metadata": {},
   "source": [
    "## 3. Seaborn API Overview\n",
    "\n",
    "Seaborn has various types of plots which can satisfy various types of data visualization requirements. The plots can be categorized into seven categories – relational plots, categorical plots, distribution plots, regression plots, matrix plots and multi-plot grids.\n"
   ]
  },
  {
   "cell_type": "markdown",
   "metadata": {},
   "source": [
    "## 4. Seaborn functionality\n",
    "\n",
    "Seaborn offers lot of functionality which makes it effective for many data visualization tasks. These functionalities are listed below:-\n",
    "\n",
    "•\tSeaborn provides a dataset-oriented API to examine relationships between variables. \n",
    "\n",
    "•\tIt provides functions to fit and visualize linear regression models for different types of independent and dependent variables.\n",
    "\n",
    "•\tSeaborn provide functions for visualizing univariate and bivariate distributions and for comparing them between subsets of data.\n",
    "\n",
    "•\tIt provides plotting functions for using categorical variables to show observations or aggregate statistics.\n",
    "\n",
    "•\tIt helps us to visualize matrices of data and use clustering algorithms to discover structure in those matrices.\n",
    "\n",
    "•\tSeaborn provides a plotting function to plot statistical time series data. The function provides flexible estimation and representation of uncertainty around the estimate.\n",
    "\n",
    "•\tIt provide tools for choosing styles, colour palettes, palette widgets and utility functions. These tools help us to make beautiful plots that reveal patterns in the data.\n",
    "\n",
    "•\tIt provides several built-in themes for producing stylish looking Matplotlib graphics. \n"
   ]
  },
  {
   "cell_type": "markdown",
   "metadata": {},
   "source": [
    "## 5. Seaborn installation\n",
    "\n",
    "\n",
    "To install the latest release of Seaborn, we can use **pip** and run the following command in the terminal:\n",
    "\n",
    "`pip install seaborn`\n",
    "\n",
    "It is also possible to install the released version using **conda** as follows:\n",
    "\n",
    "`conda install seaborn`\n",
    "\n",
    "Alternatively, we can use **pip** to install the development version directly from github:\n",
    "\n",
    "`pip install git+https://github.com/mwaskom/seaborn.git`\n",
    "\n",
    "\n",
    "**Dependencies**\n",
    "\n",
    "•\tSeaborn requires Python 2.7 or 3.5+ platform.\n",
    "\n",
    "\n",
    "**Mandatory dependencies**\n",
    "\n",
    "Seaborn requires following mandatory Python packages to be installed on the system.\n",
    "\n",
    "•\tNumPy(>= 1.9.3)\n",
    "\n",
    "•\tScipy (>= 0.14.0)\n",
    "\n",
    "•\tMatplotlib (>= 1.4.3)\n",
    "\n",
    "•\tPandas (>= 0.15.2)\n",
    "\n",
    "\n",
    "**Recommended dependencies**\n",
    "\n",
    "Seaborn also needs statsmodels (>= 0.5.0) package to be installed on the system.\n"
   ]
  },
  {
   "cell_type": "markdown",
   "metadata": {},
   "source": [
    "## 6. Import Python libraries\n",
    "\n",
    "\n",
    "In this section, we import the necessary Python libraries Numpy, Pandas and Matplotlib with their usual shorthand notation."
   ]
  },
  {
   "cell_type": "code",
   "execution_count": 21,
   "metadata": {},
   "outputs": [],
   "source": [
    "# Ignore warnings\n",
    "\n",
    "import warnings\n",
    "\n",
    "warnings.simplefilter(action = \"ignore\", category = FutureWarning)\n"
   ]
  },
  {
   "cell_type": "code",
   "execution_count": 22,
   "metadata": {},
   "outputs": [],
   "source": [
    "# Import the dependencies\n",
    "\n",
    "import numpy as np\n",
    "import pandas as pd\n",
    "import matplotlib.pyplot as plt\n",
    "%matplotlib inline"
   ]
  },
  {
   "cell_type": "markdown",
   "metadata": {},
   "source": [
    "## 7. Import Seaborn\n",
    "\n",
    "\n",
    "We can import Seaborn as\n",
    "\n",
    "`import seaborn`\n",
    "\n",
    "The shorthand notation of Seaborn is **sns**. So, we can import seaborn with usual shorthand notation.\n",
    "\n",
    "`import seaborn as sns`"
   ]
  },
  {
   "cell_type": "code",
   "execution_count": 23,
   "metadata": {},
   "outputs": [],
   "source": [
    "# Import seaborn\n",
    "\n",
    "import seaborn as sns"
   ]
  },
  {
   "cell_type": "markdown",
   "metadata": {},
   "source": [
    "## 8. Import datasets\n",
    "\n",
    "Seaborn has few important datasets in the library. When Seaborn is installed, the datasets download automatically. We can download any dataset with **load_dataset()** function.\n",
    "\n",
    "**Importing data as Pandas dataframe**\n",
    "\n",
    "In this section, we will import a dataset. By default, this dataset loads as Pandas dataframe. There is a dataset called **tips** in the library. We can import this dataset with the following line of code:-\n"
   ]
  },
  {
   "cell_type": "code",
   "execution_count": 24,
   "metadata": {},
   "outputs": [
    {
     "ename": "URLError",
     "evalue": "<urlopen error [SSL: CERTIFICATE_VERIFY_FAILED] certificate verify failed: unable to get local issuer certificate (_ssl.c:1000)>",
     "output_type": "error",
     "traceback": [
      "\u001b[31m---------------------------------------------------------------------------\u001b[39m",
      "\u001b[31mSSLCertVerificationError\u001b[39m                  Traceback (most recent call last)",
      "\u001b[36mFile \u001b[39m\u001b[32m/Library/Frameworks/Python.framework/Versions/3.12/lib/python3.12/urllib/request.py:1344\u001b[39m, in \u001b[36mAbstractHTTPHandler.do_open\u001b[39m\u001b[34m(self, http_class, req, **http_conn_args)\u001b[39m\n\u001b[32m   1343\u001b[39m \u001b[38;5;28;01mtry\u001b[39;00m:\n\u001b[32m-> \u001b[39m\u001b[32m1344\u001b[39m     \u001b[43mh\u001b[49m\u001b[43m.\u001b[49m\u001b[43mrequest\u001b[49m\u001b[43m(\u001b[49m\u001b[43mreq\u001b[49m\u001b[43m.\u001b[49m\u001b[43mget_method\u001b[49m\u001b[43m(\u001b[49m\u001b[43m)\u001b[49m\u001b[43m,\u001b[49m\u001b[43m \u001b[49m\u001b[43mreq\u001b[49m\u001b[43m.\u001b[49m\u001b[43mselector\u001b[49m\u001b[43m,\u001b[49m\u001b[43m \u001b[49m\u001b[43mreq\u001b[49m\u001b[43m.\u001b[49m\u001b[43mdata\u001b[49m\u001b[43m,\u001b[49m\u001b[43m \u001b[49m\u001b[43mheaders\u001b[49m\u001b[43m,\u001b[49m\n\u001b[32m   1345\u001b[39m \u001b[43m              \u001b[49m\u001b[43mencode_chunked\u001b[49m\u001b[43m=\u001b[49m\u001b[43mreq\u001b[49m\u001b[43m.\u001b[49m\u001b[43mhas_header\u001b[49m\u001b[43m(\u001b[49m\u001b[33;43m'\u001b[39;49m\u001b[33;43mTransfer-encoding\u001b[39;49m\u001b[33;43m'\u001b[39;49m\u001b[43m)\u001b[49m\u001b[43m)\u001b[49m\n\u001b[32m   1346\u001b[39m \u001b[38;5;28;01mexcept\u001b[39;00m \u001b[38;5;167;01mOSError\u001b[39;00m \u001b[38;5;28;01mas\u001b[39;00m err: \u001b[38;5;66;03m# timeout error\u001b[39;00m\n",
      "\u001b[36mFile \u001b[39m\u001b[32m/Library/Frameworks/Python.framework/Versions/3.12/lib/python3.12/http/client.py:1319\u001b[39m, in \u001b[36mHTTPConnection.request\u001b[39m\u001b[34m(self, method, url, body, headers, encode_chunked)\u001b[39m\n\u001b[32m   1318\u001b[39m \u001b[38;5;250m\u001b[39m\u001b[33;03m\"\"\"Send a complete request to the server.\"\"\"\u001b[39;00m\n\u001b[32m-> \u001b[39m\u001b[32m1319\u001b[39m \u001b[38;5;28;43mself\u001b[39;49m\u001b[43m.\u001b[49m\u001b[43m_send_request\u001b[49m\u001b[43m(\u001b[49m\u001b[43mmethod\u001b[49m\u001b[43m,\u001b[49m\u001b[43m \u001b[49m\u001b[43murl\u001b[49m\u001b[43m,\u001b[49m\u001b[43m \u001b[49m\u001b[43mbody\u001b[49m\u001b[43m,\u001b[49m\u001b[43m \u001b[49m\u001b[43mheaders\u001b[49m\u001b[43m,\u001b[49m\u001b[43m \u001b[49m\u001b[43mencode_chunked\u001b[49m\u001b[43m)\u001b[49m\n",
      "\u001b[36mFile \u001b[39m\u001b[32m/Library/Frameworks/Python.framework/Versions/3.12/lib/python3.12/http/client.py:1365\u001b[39m, in \u001b[36mHTTPConnection._send_request\u001b[39m\u001b[34m(self, method, url, body, headers, encode_chunked)\u001b[39m\n\u001b[32m   1364\u001b[39m     body = _encode(body, \u001b[33m'\u001b[39m\u001b[33mbody\u001b[39m\u001b[33m'\u001b[39m)\n\u001b[32m-> \u001b[39m\u001b[32m1365\u001b[39m \u001b[38;5;28;43mself\u001b[39;49m\u001b[43m.\u001b[49m\u001b[43mendheaders\u001b[49m\u001b[43m(\u001b[49m\u001b[43mbody\u001b[49m\u001b[43m,\u001b[49m\u001b[43m \u001b[49m\u001b[43mencode_chunked\u001b[49m\u001b[43m=\u001b[49m\u001b[43mencode_chunked\u001b[49m\u001b[43m)\u001b[49m\n",
      "\u001b[36mFile \u001b[39m\u001b[32m/Library/Frameworks/Python.framework/Versions/3.12/lib/python3.12/http/client.py:1314\u001b[39m, in \u001b[36mHTTPConnection.endheaders\u001b[39m\u001b[34m(self, message_body, encode_chunked)\u001b[39m\n\u001b[32m   1313\u001b[39m     \u001b[38;5;28;01mraise\u001b[39;00m CannotSendHeader()\n\u001b[32m-> \u001b[39m\u001b[32m1314\u001b[39m \u001b[38;5;28;43mself\u001b[39;49m\u001b[43m.\u001b[49m\u001b[43m_send_output\u001b[49m\u001b[43m(\u001b[49m\u001b[43mmessage_body\u001b[49m\u001b[43m,\u001b[49m\u001b[43m \u001b[49m\u001b[43mencode_chunked\u001b[49m\u001b[43m=\u001b[49m\u001b[43mencode_chunked\u001b[49m\u001b[43m)\u001b[49m\n",
      "\u001b[36mFile \u001b[39m\u001b[32m/Library/Frameworks/Python.framework/Versions/3.12/lib/python3.12/http/client.py:1074\u001b[39m, in \u001b[36mHTTPConnection._send_output\u001b[39m\u001b[34m(self, message_body, encode_chunked)\u001b[39m\n\u001b[32m   1073\u001b[39m \u001b[38;5;28;01mdel\u001b[39;00m \u001b[38;5;28mself\u001b[39m._buffer[:]\n\u001b[32m-> \u001b[39m\u001b[32m1074\u001b[39m \u001b[38;5;28;43mself\u001b[39;49m\u001b[43m.\u001b[49m\u001b[43msend\u001b[49m\u001b[43m(\u001b[49m\u001b[43mmsg\u001b[49m\u001b[43m)\u001b[49m\n\u001b[32m   1076\u001b[39m \u001b[38;5;28;01mif\u001b[39;00m message_body \u001b[38;5;129;01mis\u001b[39;00m \u001b[38;5;129;01mnot\u001b[39;00m \u001b[38;5;28;01mNone\u001b[39;00m:\n\u001b[32m   1077\u001b[39m \n\u001b[32m   1078\u001b[39m     \u001b[38;5;66;03m# create a consistent interface to message_body\u001b[39;00m\n",
      "\u001b[36mFile \u001b[39m\u001b[32m/Library/Frameworks/Python.framework/Versions/3.12/lib/python3.12/http/client.py:1018\u001b[39m, in \u001b[36mHTTPConnection.send\u001b[39m\u001b[34m(self, data)\u001b[39m\n\u001b[32m   1017\u001b[39m \u001b[38;5;28;01mif\u001b[39;00m \u001b[38;5;28mself\u001b[39m.auto_open:\n\u001b[32m-> \u001b[39m\u001b[32m1018\u001b[39m     \u001b[38;5;28;43mself\u001b[39;49m\u001b[43m.\u001b[49m\u001b[43mconnect\u001b[49m\u001b[43m(\u001b[49m\u001b[43m)\u001b[49m\n\u001b[32m   1019\u001b[39m \u001b[38;5;28;01melse\u001b[39;00m:\n",
      "\u001b[36mFile \u001b[39m\u001b[32m/Library/Frameworks/Python.framework/Versions/3.12/lib/python3.12/http/client.py:1460\u001b[39m, in \u001b[36mHTTPSConnection.connect\u001b[39m\u001b[34m(self)\u001b[39m\n\u001b[32m   1458\u001b[39m     server_hostname = \u001b[38;5;28mself\u001b[39m.host\n\u001b[32m-> \u001b[39m\u001b[32m1460\u001b[39m \u001b[38;5;28mself\u001b[39m.sock = \u001b[38;5;28;43mself\u001b[39;49m\u001b[43m.\u001b[49m\u001b[43m_context\u001b[49m\u001b[43m.\u001b[49m\u001b[43mwrap_socket\u001b[49m\u001b[43m(\u001b[49m\u001b[38;5;28;43mself\u001b[39;49m\u001b[43m.\u001b[49m\u001b[43msock\u001b[49m\u001b[43m,\u001b[49m\n\u001b[32m   1461\u001b[39m \u001b[43m                                      \u001b[49m\u001b[43mserver_hostname\u001b[49m\u001b[43m=\u001b[49m\u001b[43mserver_hostname\u001b[49m\u001b[43m)\u001b[49m\n",
      "\u001b[36mFile \u001b[39m\u001b[32m/Library/Frameworks/Python.framework/Versions/3.12/lib/python3.12/ssl.py:455\u001b[39m, in \u001b[36mSSLContext.wrap_socket\u001b[39m\u001b[34m(self, sock, server_side, do_handshake_on_connect, suppress_ragged_eofs, server_hostname, session)\u001b[39m\n\u001b[32m    449\u001b[39m \u001b[38;5;28;01mdef\u001b[39;00m\u001b[38;5;250m \u001b[39m\u001b[34mwrap_socket\u001b[39m(\u001b[38;5;28mself\u001b[39m, sock, server_side=\u001b[38;5;28;01mFalse\u001b[39;00m,\n\u001b[32m    450\u001b[39m                 do_handshake_on_connect=\u001b[38;5;28;01mTrue\u001b[39;00m,\n\u001b[32m    451\u001b[39m                 suppress_ragged_eofs=\u001b[38;5;28;01mTrue\u001b[39;00m,\n\u001b[32m    452\u001b[39m                 server_hostname=\u001b[38;5;28;01mNone\u001b[39;00m, session=\u001b[38;5;28;01mNone\u001b[39;00m):\n\u001b[32m    453\u001b[39m     \u001b[38;5;66;03m# SSLSocket class handles server_hostname encoding before it calls\u001b[39;00m\n\u001b[32m    454\u001b[39m     \u001b[38;5;66;03m# ctx._wrap_socket()\u001b[39;00m\n\u001b[32m--> \u001b[39m\u001b[32m455\u001b[39m     \u001b[38;5;28;01mreturn\u001b[39;00m \u001b[38;5;28;43mself\u001b[39;49m\u001b[43m.\u001b[49m\u001b[43msslsocket_class\u001b[49m\u001b[43m.\u001b[49m\u001b[43m_create\u001b[49m\u001b[43m(\u001b[49m\n\u001b[32m    456\u001b[39m \u001b[43m        \u001b[49m\u001b[43msock\u001b[49m\u001b[43m=\u001b[49m\u001b[43msock\u001b[49m\u001b[43m,\u001b[49m\n\u001b[32m    457\u001b[39m \u001b[43m        \u001b[49m\u001b[43mserver_side\u001b[49m\u001b[43m=\u001b[49m\u001b[43mserver_side\u001b[49m\u001b[43m,\u001b[49m\n\u001b[32m    458\u001b[39m \u001b[43m        \u001b[49m\u001b[43mdo_handshake_on_connect\u001b[49m\u001b[43m=\u001b[49m\u001b[43mdo_handshake_on_connect\u001b[49m\u001b[43m,\u001b[49m\n\u001b[32m    459\u001b[39m \u001b[43m        \u001b[49m\u001b[43msuppress_ragged_eofs\u001b[49m\u001b[43m=\u001b[49m\u001b[43msuppress_ragged_eofs\u001b[49m\u001b[43m,\u001b[49m\n\u001b[32m    460\u001b[39m \u001b[43m        \u001b[49m\u001b[43mserver_hostname\u001b[49m\u001b[43m=\u001b[49m\u001b[43mserver_hostname\u001b[49m\u001b[43m,\u001b[49m\n\u001b[32m    461\u001b[39m \u001b[43m        \u001b[49m\u001b[43mcontext\u001b[49m\u001b[43m=\u001b[49m\u001b[38;5;28;43mself\u001b[39;49m\u001b[43m,\u001b[49m\n\u001b[32m    462\u001b[39m \u001b[43m        \u001b[49m\u001b[43msession\u001b[49m\u001b[43m=\u001b[49m\u001b[43msession\u001b[49m\n\u001b[32m    463\u001b[39m \u001b[43m    \u001b[49m\u001b[43m)\u001b[49m\n",
      "\u001b[36mFile \u001b[39m\u001b[32m/Library/Frameworks/Python.framework/Versions/3.12/lib/python3.12/ssl.py:1046\u001b[39m, in \u001b[36mSSLSocket._create\u001b[39m\u001b[34m(cls, sock, server_side, do_handshake_on_connect, suppress_ragged_eofs, server_hostname, context, session)\u001b[39m\n\u001b[32m   1045\u001b[39m             \u001b[38;5;28;01mraise\u001b[39;00m \u001b[38;5;167;01mValueError\u001b[39;00m(\u001b[33m\"\u001b[39m\u001b[33mdo_handshake_on_connect should not be specified for non-blocking sockets\u001b[39m\u001b[33m\"\u001b[39m)\n\u001b[32m-> \u001b[39m\u001b[32m1046\u001b[39m         \u001b[38;5;28;43mself\u001b[39;49m\u001b[43m.\u001b[49m\u001b[43mdo_handshake\u001b[49m\u001b[43m(\u001b[49m\u001b[43m)\u001b[49m\n\u001b[32m   1047\u001b[39m \u001b[38;5;28;01mexcept\u001b[39;00m (\u001b[38;5;167;01mOSError\u001b[39;00m, \u001b[38;5;167;01mValueError\u001b[39;00m):\n",
      "\u001b[36mFile \u001b[39m\u001b[32m/Library/Frameworks/Python.framework/Versions/3.12/lib/python3.12/ssl.py:1317\u001b[39m, in \u001b[36mSSLSocket.do_handshake\u001b[39m\u001b[34m(self, block)\u001b[39m\n\u001b[32m   1316\u001b[39m         \u001b[38;5;28mself\u001b[39m.settimeout(\u001b[38;5;28;01mNone\u001b[39;00m)\n\u001b[32m-> \u001b[39m\u001b[32m1317\u001b[39m     \u001b[38;5;28;43mself\u001b[39;49m\u001b[43m.\u001b[49m\u001b[43m_sslobj\u001b[49m\u001b[43m.\u001b[49m\u001b[43mdo_handshake\u001b[49m\u001b[43m(\u001b[49m\u001b[43m)\u001b[49m\n\u001b[32m   1318\u001b[39m \u001b[38;5;28;01mfinally\u001b[39;00m:\n",
      "\u001b[31mSSLCertVerificationError\u001b[39m: [SSL: CERTIFICATE_VERIFY_FAILED] certificate verify failed: unable to get local issuer certificate (_ssl.c:1000)",
      "\nDuring handling of the above exception, another exception occurred:\n",
      "\u001b[31mURLError\u001b[39m                                  Traceback (most recent call last)",
      "\u001b[36mCell\u001b[39m\u001b[36m \u001b[39m\u001b[32mIn[24]\u001b[39m\u001b[32m, line 1\u001b[39m\n\u001b[32m----> \u001b[39m\u001b[32m1\u001b[39m tips = \u001b[43msns\u001b[49m\u001b[43m.\u001b[49m\u001b[43mload_dataset\u001b[49m\u001b[43m(\u001b[49m\u001b[33;43m'\u001b[39;49m\u001b[33;43mtips\u001b[39;49m\u001b[33;43m'\u001b[39;49m\u001b[43m)\u001b[49m\n",
      "\u001b[36mFile \u001b[39m\u001b[32m/Library/Frameworks/Python.framework/Versions/3.12/lib/python3.12/site-packages/seaborn/utils.py:572\u001b[39m, in \u001b[36mload_dataset\u001b[39m\u001b[34m(name, cache, data_home, **kws)\u001b[39m\n\u001b[32m    570\u001b[39m cache_path = os.path.join(get_data_home(data_home), os.path.basename(url))\n\u001b[32m    571\u001b[39m \u001b[38;5;28;01mif\u001b[39;00m \u001b[38;5;129;01mnot\u001b[39;00m os.path.exists(cache_path):\n\u001b[32m--> \u001b[39m\u001b[32m572\u001b[39m     \u001b[38;5;28;01mif\u001b[39;00m name \u001b[38;5;129;01mnot\u001b[39;00m \u001b[38;5;129;01min\u001b[39;00m \u001b[43mget_dataset_names\u001b[49m\u001b[43m(\u001b[49m\u001b[43m)\u001b[49m:\n\u001b[32m    573\u001b[39m         \u001b[38;5;28;01mraise\u001b[39;00m \u001b[38;5;167;01mValueError\u001b[39;00m(\u001b[33mf\u001b[39m\u001b[33m\"\u001b[39m\u001b[33m'\u001b[39m\u001b[38;5;132;01m{\u001b[39;00mname\u001b[38;5;132;01m}\u001b[39;00m\u001b[33m'\u001b[39m\u001b[33m is not one of the example datasets.\u001b[39m\u001b[33m\"\u001b[39m)\n\u001b[32m    574\u001b[39m     urlretrieve(url, cache_path)\n",
      "\u001b[36mFile \u001b[39m\u001b[32m/Library/Frameworks/Python.framework/Versions/3.12/lib/python3.12/site-packages/seaborn/utils.py:499\u001b[39m, in \u001b[36mget_dataset_names\u001b[39m\u001b[34m()\u001b[39m\n\u001b[32m    493\u001b[39m \u001b[38;5;28;01mdef\u001b[39;00m\u001b[38;5;250m \u001b[39m\u001b[34mget_dataset_names\u001b[39m():\n\u001b[32m    494\u001b[39m \u001b[38;5;250m    \u001b[39m\u001b[33;03m\"\"\"Report available example datasets, useful for reporting issues.\u001b[39;00m\n\u001b[32m    495\u001b[39m \n\u001b[32m    496\u001b[39m \u001b[33;03m    Requires an internet connection.\u001b[39;00m\n\u001b[32m    497\u001b[39m \n\u001b[32m    498\u001b[39m \u001b[33;03m    \"\"\"\u001b[39;00m\n\u001b[32m--> \u001b[39m\u001b[32m499\u001b[39m     \u001b[38;5;28;01mwith\u001b[39;00m \u001b[43murlopen\u001b[49m\u001b[43m(\u001b[49m\u001b[43mDATASET_NAMES_URL\u001b[49m\u001b[43m)\u001b[49m \u001b[38;5;28;01mas\u001b[39;00m resp:\n\u001b[32m    500\u001b[39m         txt = resp.read()\n\u001b[32m    502\u001b[39m     dataset_names = [name.strip() \u001b[38;5;28;01mfor\u001b[39;00m name \u001b[38;5;129;01min\u001b[39;00m txt.decode().split(\u001b[33m\"\u001b[39m\u001b[38;5;130;01m\\n\u001b[39;00m\u001b[33m\"\u001b[39m)]\n",
      "\u001b[36mFile \u001b[39m\u001b[32m/Library/Frameworks/Python.framework/Versions/3.12/lib/python3.12/urllib/request.py:215\u001b[39m, in \u001b[36murlopen\u001b[39m\u001b[34m(url, data, timeout, cafile, capath, cadefault, context)\u001b[39m\n\u001b[32m    213\u001b[39m \u001b[38;5;28;01melse\u001b[39;00m:\n\u001b[32m    214\u001b[39m     opener = _opener\n\u001b[32m--> \u001b[39m\u001b[32m215\u001b[39m \u001b[38;5;28;01mreturn\u001b[39;00m \u001b[43mopener\u001b[49m\u001b[43m.\u001b[49m\u001b[43mopen\u001b[49m\u001b[43m(\u001b[49m\u001b[43murl\u001b[49m\u001b[43m,\u001b[49m\u001b[43m \u001b[49m\u001b[43mdata\u001b[49m\u001b[43m,\u001b[49m\u001b[43m \u001b[49m\u001b[43mtimeout\u001b[49m\u001b[43m)\u001b[49m\n",
      "\u001b[36mFile \u001b[39m\u001b[32m/Library/Frameworks/Python.framework/Versions/3.12/lib/python3.12/urllib/request.py:515\u001b[39m, in \u001b[36mOpenerDirector.open\u001b[39m\u001b[34m(self, fullurl, data, timeout)\u001b[39m\n\u001b[32m    512\u001b[39m     req = meth(req)\n\u001b[32m    514\u001b[39m sys.audit(\u001b[33m'\u001b[39m\u001b[33murllib.Request\u001b[39m\u001b[33m'\u001b[39m, req.full_url, req.data, req.headers, req.get_method())\n\u001b[32m--> \u001b[39m\u001b[32m515\u001b[39m response = \u001b[38;5;28;43mself\u001b[39;49m\u001b[43m.\u001b[49m\u001b[43m_open\u001b[49m\u001b[43m(\u001b[49m\u001b[43mreq\u001b[49m\u001b[43m,\u001b[49m\u001b[43m \u001b[49m\u001b[43mdata\u001b[49m\u001b[43m)\u001b[49m\n\u001b[32m    517\u001b[39m \u001b[38;5;66;03m# post-process response\u001b[39;00m\n\u001b[32m    518\u001b[39m meth_name = protocol+\u001b[33m\"\u001b[39m\u001b[33m_response\u001b[39m\u001b[33m\"\u001b[39m\n",
      "\u001b[36mFile \u001b[39m\u001b[32m/Library/Frameworks/Python.framework/Versions/3.12/lib/python3.12/urllib/request.py:532\u001b[39m, in \u001b[36mOpenerDirector._open\u001b[39m\u001b[34m(self, req, data)\u001b[39m\n\u001b[32m    529\u001b[39m     \u001b[38;5;28;01mreturn\u001b[39;00m result\n\u001b[32m    531\u001b[39m protocol = req.type\n\u001b[32m--> \u001b[39m\u001b[32m532\u001b[39m result = \u001b[38;5;28;43mself\u001b[39;49m\u001b[43m.\u001b[49m\u001b[43m_call_chain\u001b[49m\u001b[43m(\u001b[49m\u001b[38;5;28;43mself\u001b[39;49m\u001b[43m.\u001b[49m\u001b[43mhandle_open\u001b[49m\u001b[43m,\u001b[49m\u001b[43m \u001b[49m\u001b[43mprotocol\u001b[49m\u001b[43m,\u001b[49m\u001b[43m \u001b[49m\u001b[43mprotocol\u001b[49m\u001b[43m \u001b[49m\u001b[43m+\u001b[49m\n\u001b[32m    533\u001b[39m \u001b[43m                          \u001b[49m\u001b[33;43m'\u001b[39;49m\u001b[33;43m_open\u001b[39;49m\u001b[33;43m'\u001b[39;49m\u001b[43m,\u001b[49m\u001b[43m \u001b[49m\u001b[43mreq\u001b[49m\u001b[43m)\u001b[49m\n\u001b[32m    534\u001b[39m \u001b[38;5;28;01mif\u001b[39;00m result:\n\u001b[32m    535\u001b[39m     \u001b[38;5;28;01mreturn\u001b[39;00m result\n",
      "\u001b[36mFile \u001b[39m\u001b[32m/Library/Frameworks/Python.framework/Versions/3.12/lib/python3.12/urllib/request.py:492\u001b[39m, in \u001b[36mOpenerDirector._call_chain\u001b[39m\u001b[34m(self, chain, kind, meth_name, *args)\u001b[39m\n\u001b[32m    490\u001b[39m \u001b[38;5;28;01mfor\u001b[39;00m handler \u001b[38;5;129;01min\u001b[39;00m handlers:\n\u001b[32m    491\u001b[39m     func = \u001b[38;5;28mgetattr\u001b[39m(handler, meth_name)\n\u001b[32m--> \u001b[39m\u001b[32m492\u001b[39m     result = \u001b[43mfunc\u001b[49m\u001b[43m(\u001b[49m\u001b[43m*\u001b[49m\u001b[43margs\u001b[49m\u001b[43m)\u001b[49m\n\u001b[32m    493\u001b[39m     \u001b[38;5;28;01mif\u001b[39;00m result \u001b[38;5;129;01mis\u001b[39;00m \u001b[38;5;129;01mnot\u001b[39;00m \u001b[38;5;28;01mNone\u001b[39;00m:\n\u001b[32m    494\u001b[39m         \u001b[38;5;28;01mreturn\u001b[39;00m result\n",
      "\u001b[36mFile \u001b[39m\u001b[32m/Library/Frameworks/Python.framework/Versions/3.12/lib/python3.12/urllib/request.py:1392\u001b[39m, in \u001b[36mHTTPSHandler.https_open\u001b[39m\u001b[34m(self, req)\u001b[39m\n\u001b[32m   1391\u001b[39m \u001b[38;5;28;01mdef\u001b[39;00m\u001b[38;5;250m \u001b[39m\u001b[34mhttps_open\u001b[39m(\u001b[38;5;28mself\u001b[39m, req):\n\u001b[32m-> \u001b[39m\u001b[32m1392\u001b[39m     \u001b[38;5;28;01mreturn\u001b[39;00m \u001b[38;5;28;43mself\u001b[39;49m\u001b[43m.\u001b[49m\u001b[43mdo_open\u001b[49m\u001b[43m(\u001b[49m\u001b[43mhttp\u001b[49m\u001b[43m.\u001b[49m\u001b[43mclient\u001b[49m\u001b[43m.\u001b[49m\u001b[43mHTTPSConnection\u001b[49m\u001b[43m,\u001b[49m\u001b[43m \u001b[49m\u001b[43mreq\u001b[49m\u001b[43m,\u001b[49m\n\u001b[32m   1393\u001b[39m \u001b[43m                        \u001b[49m\u001b[43mcontext\u001b[49m\u001b[43m=\u001b[49m\u001b[38;5;28;43mself\u001b[39;49m\u001b[43m.\u001b[49m\u001b[43m_context\u001b[49m\u001b[43m)\u001b[49m\n",
      "\u001b[36mFile \u001b[39m\u001b[32m/Library/Frameworks/Python.framework/Versions/3.12/lib/python3.12/urllib/request.py:1347\u001b[39m, in \u001b[36mAbstractHTTPHandler.do_open\u001b[39m\u001b[34m(self, http_class, req, **http_conn_args)\u001b[39m\n\u001b[32m   1344\u001b[39m         h.request(req.get_method(), req.selector, req.data, headers,\n\u001b[32m   1345\u001b[39m                   encode_chunked=req.has_header(\u001b[33m'\u001b[39m\u001b[33mTransfer-encoding\u001b[39m\u001b[33m'\u001b[39m))\n\u001b[32m   1346\u001b[39m     \u001b[38;5;28;01mexcept\u001b[39;00m \u001b[38;5;167;01mOSError\u001b[39;00m \u001b[38;5;28;01mas\u001b[39;00m err: \u001b[38;5;66;03m# timeout error\u001b[39;00m\n\u001b[32m-> \u001b[39m\u001b[32m1347\u001b[39m         \u001b[38;5;28;01mraise\u001b[39;00m URLError(err)\n\u001b[32m   1348\u001b[39m     r = h.getresponse()\n\u001b[32m   1349\u001b[39m \u001b[38;5;28;01mexcept\u001b[39;00m:\n",
      "\u001b[31mURLError\u001b[39m: <urlopen error [SSL: CERTIFICATE_VERIFY_FAILED] certificate verify failed: unable to get local issuer certificate (_ssl.c:1000)>"
     ]
    }
   ],
   "source": [
    "tips = sns.load_dataset('tips')"
   ]
  },
  {
   "cell_type": "markdown",
   "metadata": {},
   "source": [
    "We can view the first five lines of code with the following command:-"
   ]
  },
  {
   "cell_type": "code",
   "execution_count": null,
   "metadata": {},
   "outputs": [],
   "source": [
    "tips.head()"
   ]
  },
  {
   "cell_type": "markdown",
   "metadata": {},
   "source": [
    "To view all the available datasets in the Seaborn library, we can use the following command with the **get_dataset_names()** function as shown below:-"
   ]
  },
  {
   "cell_type": "code",
   "execution_count": null,
   "metadata": {},
   "outputs": [],
   "source": [
    "warnings.simplefilter(action = \"ignore\", category = UserWarning)\n",
    "\n",
    "print(sns.get_dataset_names())"
   ]
  },
  {
   "cell_type": "markdown",
   "metadata": {},
   "source": [
    "## Set aesthetic parameters with set() method\n",
    "\n",
    "\n",
    "We can set the aesthetic parameters of Seaborn plots with the **set()** method. The aesthetic parameters are context, style, palette, font, font_scale, color_codes, dictionary of rc parameters. \n",
    "\n",
    "So, we can set the default aesthetic parameters by calling Seaborn's **set()** method as follows:-"
   ]
  },
  {
   "cell_type": "code",
   "execution_count": null,
   "metadata": {},
   "outputs": [],
   "source": [
    "# Set the plot styles with set() method\n",
    "\n",
    "sns.set()"
   ]
  },
  {
   "cell_type": "markdown",
   "metadata": {},
   "source": [
    "## Seaborn colour palette\n",
    "\n",
    "\n",
    "Colour plays very important role in data visualization. Colour adds various dimensions to a plot when used effectively. \n",
    "A palette means a flat surface on which a painter mixes paints.\n",
    "\n",
    "\n",
    "Seaborn provides a function called **color_palette()**. It can be used to give colours to plots and adding aesthetic value to it. It return a list of colors defining a color palette.\n",
    "\n",
    "\n",
    "There are several readily available Seaborn palettes. These are:-\n",
    "\n",
    "•\tDeep\n",
    "\n",
    "•\tMuted\n",
    "\n",
    "•\tBright\n",
    "\n",
    "•\tPastel\n",
    "\n",
    "•\tDark\n",
    "\n",
    "•\tColorblind\n",
    "\n",
    "Besides these we can also create new palettes.\n",
    "\n",
    "There is another function **seaborn.palplot()** which deals with color palettes. This function plots the color palette as a horizontal array.\n"
   ]
  },
  {
   "cell_type": "markdown",
   "metadata": {},
   "source": [
    "**Qualitative Color Palettes**\n",
    "\n",
    "Qualitative or categorical palettes are best suitable to plot the categorical data as follows:-\n"
   ]
  },
  {
   "cell_type": "code",
   "execution_count": null,
   "metadata": {},
   "outputs": [],
   "source": [
    "current_palette1 = sns.color_palette()\n",
    "\n",
    "sns.palplot(current_palette1)\n",
    "\n",
    "plt.show()\n"
   ]
  },
  {
   "cell_type": "markdown",
   "metadata": {},
   "source": [
    "We can see the desired number of colors by passing a value to the n_colors parameter. Here, the **palplot()** function is used to plot the array of colors horizontally.\n",
    "\n"
   ]
  },
  {
   "cell_type": "markdown",
   "metadata": {},
   "source": [
    "**Sequential Color Palettes**\n",
    "\n",
    "Sequential plots are suitable to express the distribution of data ranging from relative lower values to higher values within a range. Appending an additional character \"s\" to the color passed to the color parameter will plot the Sequential plot. \n",
    "\n",
    "We need to append 's' to the parameter like 'Greens' as follows:-\n"
   ]
  },
  {
   "cell_type": "code",
   "execution_count": null,
   "metadata": {},
   "outputs": [],
   "source": [
    "current_palette2 = sns.color_palette()\n",
    "\n",
    "sns.palplot( sns.color_palette(\"Greens\"))\n",
    "\n",
    "plt.show()\n"
   ]
  },
  {
   "cell_type": "markdown",
   "metadata": {},
   "source": [
    "**Diverging Color Palette**\n",
    "\n",
    "Diverging palettes use two different colors. Each color represents variation in the value ranging from a common point in either direction. \n",
    "\n",
    "We assume plotting the data ranging from -1 to 1. The values from -1 to 0 takes one color and 0 to +1 takes another color. \n",
    "\n",
    "By default, the values are centered from zero. We can control it with parameter center by passing a value as follows:-\n"
   ]
  },
  {
   "cell_type": "code",
   "execution_count": null,
   "metadata": {},
   "outputs": [],
   "source": [
    "current_palette3 = sns.color_palette()\n",
    "\n",
    "sns.palplot( sns.color_palette(\"BrBG\", 7))\n",
    "\n",
    "plt.show()\n"
   ]
  },
  {
   "cell_type": "markdown",
   "metadata": {},
   "source": [
    "**Default Color Palette**\n",
    "\n",
    "We can set the default color palette of a Seaborn plot using **set_palette()** function.\n",
    "\n",
    "The arguments are same for both **set_palette()** and **color_palette()** functions, but the default Matplotlib \n",
    "parameters are changed so that the palette is used for all plots.\n"
   ]
  },
  {
   "cell_type": "code",
   "execution_count": null,
   "metadata": {},
   "outputs": [],
   "source": [
    "def sinplot(flip=1): \n",
    "\n",
    "    x = np.linspace(0, 15, 100) \n",
    "\n",
    "    for i in range(1, 5): \n",
    "\n",
    "        plt.plot(x, np.sin(x + i * .5) * (7 - i) * flip) \n",
    "\n",
    "\n",
    "sns.set_style(\"white\")\n",
    "\n",
    "sns.set_palette(\"husl\") # Hue, Saturation, Lightness\n",
    "\n",
    "sinplot() \n",
    "\n",
    "plt.show()\n"
   ]
  },
  {
   "cell_type": "markdown",
   "metadata": {},
   "source": [
    "## 9. Plotting Univariate Distribution with distplot()\n",
    "\n",
    "\n",
    "The most important thing to do while analysing the data is to understand its distribution. Seaborn helps us to understand the univariate distribution of data.\n",
    "\n",
    "The **distplot()** function provides a quick look at univariate distribution. This function will plot a histogram that fits the kernel density estimate of the data.\n",
    "\n",
    "We can use the **distplot()** function as follows:-\n"
   ]
  },
  {
   "cell_type": "code",
   "execution_count": null,
   "metadata": {},
   "outputs": [],
   "source": [
    "sns.distplot(tips['total_bill']) \n",
    "\n",
    "plt.show()\n"
   ]
  },
  {
   "cell_type": "markdown",
   "metadata": {},
   "source": [
    "## Seaborn Histogram\n",
    "\n",
    "\n",
    "Histograms represent the data distribution by forming bins along the range of the data and then drawing bars to show \n",
    "the number of observations that fall in each bin.\n",
    "\n",
    "We can use the same **distplot()** function to plot a histogram as follows:-\n"
   ]
  },
  {
   "cell_type": "code",
   "execution_count": null,
   "metadata": {},
   "outputs": [],
   "source": [
    "sns.distplot(tips['total_bill'], kde=False) \n",
    "\n",
    "plt.show()"
   ]
  },
  {
   "cell_type": "markdown",
   "metadata": {},
   "source": [
    "The kde parameter is set to false. As a result, the representation of the kernel estimation plot will be removed and only histogram is plotted.\n"
   ]
  },
  {
   "cell_type": "markdown",
   "metadata": {},
   "source": [
    "## Seaborn – Kernel Density Estimates\n",
    "\n",
    "\n",
    "Kernel Density Estimation (KDE) is a way to estimate the probability density function of a continuous random variable. \n",
    "It is used for non-parametric analysis. \n",
    "\n",
    "Setting the hist parameter to false in distplot() function will yield the kernel density estimation plot.\n"
   ]
  },
  {
   "cell_type": "code",
   "execution_count": null,
   "metadata": {},
   "outputs": [],
   "source": [
    "sns.distplot(tips['total_bill'], hist=False) \n",
    "\n",
    "plt.show()\n"
   ]
  },
  {
   "cell_type": "markdown",
   "metadata": {},
   "source": [
    "## Plotting Bivariate Distribution with jointplot()\n",
    "\n",
    "Bivariate Distribution is used to determine the relation between two variables. This mainly deals with relationship between\n",
    "two variables and how one variable is behaving with respect to the other. \n",
    "\n",
    "The best way to analyze Bivariate Distribution in seaborn is by using the **jointplot()** function. \n",
    "\n",
    "**Jointplot()** creates a multi-panel figure that projects the bivariate relationship between two variables and also the univariate distribution of each variable on separate axes.\n",
    "\n"
   ]
  },
  {
   "cell_type": "code",
   "execution_count": null,
   "metadata": {},
   "outputs": [],
   "source": [
    "sns.jointplot(x=\"total_bill\", y=\"tip\", data=tips)\n",
    "\n",
    "plt.show()"
   ]
  },
  {
   "cell_type": "markdown",
   "metadata": {},
   "source": [
    "## Seaborn - Scatter plot\n",
    "\n",
    "\n",
    "A scatter plot can be used to demonstrate relationship between two variables x and y. A simple scatter plot can be drawn as follows:-"
   ]
  },
  {
   "cell_type": "code",
   "execution_count": null,
   "metadata": {},
   "outputs": [],
   "source": [
    "sns.scatterplot(x=\"total_bill\", y=\"tip\", data=tips)\n",
    "\n",
    "plt.show()"
   ]
  },
  {
   "cell_type": "markdown",
   "metadata": {},
   "source": [
    "The relationship between the variables can be shown for different subsets of the data using the `hue`, `size` and `style` parameters."
   ]
  },
  {
   "cell_type": "markdown",
   "metadata": {},
   "source": [
    "## Visualizing pairwise relationship with pairplot()\n",
    "\n",
    "\n",
    "Some datasets contain many variables. In such cases, the relationship between each and every variable should be analyzed. \n",
    "So, we need to plot pairwise relationships in a dataset.\n",
    "\n",
    "To plot multiple pairwise bivariate distributions, we can use **pairplot()** function. This shows the relationship for (n,2) combination of variable in a dataframe as a matrix of plots and the diagonal plots are the univariate plots.\n",
    "\n",
    "We can plot a pairplot as as follows:-\n"
   ]
  },
  {
   "cell_type": "code",
   "execution_count": null,
   "metadata": {},
   "outputs": [],
   "source": [
    "sns.set_style(\"ticks\")\n",
    "\n",
    "sns.pairplot(tips)\n",
    "\n",
    "plt.show()"
   ]
  },
  {
   "cell_type": "markdown",
   "metadata": {},
   "source": [
    "## Seaborn – Box Plot\n",
    "\n",
    "\n",
    "We can draw a box plot to show distributions with respect to categories. Boxplot is a convenient way to visualize the distribution of data through their quartiles. \n",
    "\n",
    "Box plots usually have vertical lines extending from the boxes which are termed as whiskers. These whiskers indicate \n",
    "variability outside the upper and lower quartiles, hence Box Plots are also termed as box-and-whisker plot. Any Outliers \n",
    "in the data are plotted as individual points.\n",
    "\n",
    "\n",
    "We can draw a single horizontal box-plot as follows:-\n"
   ]
  },
  {
   "cell_type": "code",
   "execution_count": null,
   "metadata": {},
   "outputs": [],
   "source": [
    "sns.boxplot(x=tips[\"total_bill\"])\n",
    "\n",
    "plt.show()"
   ]
  },
  {
   "cell_type": "markdown",
   "metadata": {},
   "source": [
    "We can draw a vertical boxplot grouped by a categorical variable as follows:-"
   ]
  },
  {
   "cell_type": "code",
   "execution_count": null,
   "metadata": {},
   "outputs": [],
   "source": [
    "sns.boxplot(x=\"day\", y=\"total_bill\", data=tips)\n",
    "\n",
    "plt.show()"
   ]
  },
  {
   "cell_type": "markdown",
   "metadata": {},
   "source": [
    "## Seaborn – Bar Plot\n",
    "\n",
    "\n",
    "A **barplot** shows the relation between a categorical variable and a continuous variable. The data is represented in rectangular bars where the length the bar represents the proportion of the data in that category. \n",
    "\n",
    "A barplot show point estimates and confidence intervals as rectangular bars. So, it represents the estimate of central tendency. \n",
    "\n",
    "We can draw a set of vertical bar plot grouped by a categorical variable as follows:-\n"
   ]
  },
  {
   "cell_type": "code",
   "execution_count": null,
   "metadata": {},
   "outputs": [],
   "source": [
    "sns.barplot(x=\"day\", y=\"total_bill\", data=tips)\n",
    "\n",
    "plt.show()"
   ]
  },
  {
   "cell_type": "markdown",
   "metadata": {},
   "source": [
    "### 10. Seaborn with Iris\n",
    "The plotting tools in pandas are very useful for rapid data exploration. But as we saw above, the plotting functionality in pandas is mostly focused on creating a tight, easy-to-use coupling between pandas data structures like the `DataFrame` and common pyplot plots. If we want to create more complex plots, or mess with the aesthetics of our plots, we usually still end up doing a bunch of work in base matplotlib.\n",
    "\n",
    "\n",
    "Let's try to generate something very similar to the boxplot we made above, but using seaborn rather than pandas. Our first, naive attempt, might be to simply pass the `iris` dataset to seaborn's `boxplot()` function:"
   ]
  },
  {
   "cell_type": "code",
   "execution_count": null,
   "metadata": {},
   "outputs": [],
   "source": [
    "import pandas as pd\n",
    "import seaborn as sns\n",
    "iris = pd.read_csv('IRIS.csv')\n",
    "iris.head(5)"
   ]
  },
  {
   "cell_type": "code",
   "execution_count": null,
   "metadata": {},
   "outputs": [],
   "source": [
    "# Set to one of seaborn's built-in plotting styles\n",
    "sns.set_style('darkgrid')\n",
    "\n",
    "# Plot a boxplot for the iris dataset with all default parameters \n",
    "sns.boxplot(data=iris)\n",
    "plt.show()"
   ]
  },
  {
   "cell_type": "markdown",
   "metadata": {},
   "source": [
    "### Add figure size"
   ]
  },
  {
   "cell_type": "code",
   "execution_count": null,
   "metadata": {},
   "outputs": [],
   "source": [
    "# Set Seaborn style and figure size\n",
    "sns.set_style('darkgrid')\n",
    "sns.set(rc={\"figure.figsize\": (8, 6)})  # Set figure size (width=8, height=6)\n",
    "\n",
    "# Create a boxplot with all default parameters\n",
    "sns.boxplot(data=iris)\n",
    "\n",
    "# Display the plot\n",
    "plt.show()"
   ]
  },
  {
   "cell_type": "markdown",
   "metadata": {},
   "source": [
    "This plot certainly looks nicer than what pyplot or pandas give us out of the box, and seaborn's `boxplot` it's smart enough to figure out that we probably want to plot each variable in the `DataFrame` separately. But we still have the same problem we had earlier, in that we're collapsing over species that probably look quite different.\n",
    "\n",
    "How would we go about splitting the plot into 4 subplots, like we did before? We have several options. One is to use matplotlib to set up the figure ourselves, and then call seaborn separately within each `Axes`:"
   ]
  },
  {
   "cell_type": "code",
   "execution_count": null,
   "metadata": {},
   "outputs": [],
   "source": [
    "fig, axes = plt.subplots(1, 4, figsize=(16, 4), sharey=False)\n",
    "\n",
    "# Explicitly list the variables to map onto subplots\n",
    "variables = ['sepal_length', 'sepal_width', 'petal_length', 'petal_width']\n",
    "\n",
    "# For each of the variables, use a different subplot\n",
    "for i, var in enumerate(variables):\n",
    "    species_data = iris[[var, 'species']]\n",
    "    sns.boxplot(x='species', y=var, data=species_data, ax=axes[i], \n",
    "                hue='species', palette='Set2', legend=False,\n",
    "                notch=True, bootstrap=10000)\n",
    "    axes[i].set_title(f\"Boxplot of {var.replace('_', ' ').title()}\")\n",
    "    # axes[i].set_ylim(0,8)\n",
    "\n",
    "plt.tight_layout()\n",
    "plt.show()"
   ]
  },
  {
   "cell_type": "code",
   "execution_count": null,
   "metadata": {},
   "outputs": [],
   "source": [
    "sns.regplot(x=\"total_bill\", y=\"tip\", data=tips)\n",
    "\n",
    "plt.show()"
   ]
  },
  {
   "cell_type": "code",
   "execution_count": null,
   "metadata": {},
   "outputs": [],
   "source": [
    "sns.lmplot(x=\"total_bill\", y=\"tip\", data=tips)\n",
    "\n",
    "plt.show()"
   ]
  },
  {
   "cell_type": "markdown",
   "metadata": {},
   "source": [
    "The **regplot()** and **lmplot()** functions are closely related, but the former is an axes-level function while the latter \n",
    "is a figure-level function that combines **regplot()** and **FacetGrid**."
   ]
  },
  {
   "cell_type": "markdown",
   "metadata": {},
   "source": [
    "### Slide 3.2 Example "
   ]
  },
  {
   "cell_type": "code",
   "execution_count": null,
   "metadata": {},
   "outputs": [],
   "source": [
    "all_points"
   ]
  },
  {
   "cell_type": "code",
   "execution_count": null,
   "metadata": {},
   "outputs": [],
   "source": [
    "df1"
   ]
  },
  {
   "cell_type": "code",
   "execution_count": null,
   "metadata": {},
   "outputs": [],
   "source": [
    "# Set a random seed for reproducibility\n",
    "np.random.seed(42)\n",
    "\n",
    "# Generate 10 random points for the \"Blue\" class\n",
    "blue_points = np.random.rand(10, 2) * 10\n",
    "\n",
    "# Create 1 distinct point for the \"Red\" class\n",
    "red_point = np.array([[5, 5]])  # Example location\n",
    "\n",
    "# Combine into a single DataFrame\n",
    "all_points = np.vstack([blue_points, red_point])\n",
    "labels = ['Blue'] * 10 + ['Red']\n",
    "df1 = pd.DataFrame(all_points, columns=['x', 'y'])\n",
    "df1['label'] = labels\n",
    "\n",
    "# Create the scatter plot with Seaborn\n",
    "plt.figure(figsize=(6, 6))\n",
    "sns.scatterplot(data=df1, x='x', y='y', hue='label',\n",
    "                palette=['blue', 'red'], s=100)\n",
    "plt.title(\"<Your name> + Figure 1: Single Red Point Among Many Blue Points\")\n",
    "plt.xlim(0, 10)\n",
    "plt.ylim(0, 10)\n",
    "plt.show()"
   ]
  },
  {
   "cell_type": "code",
   "execution_count": null,
   "metadata": {},
   "outputs": [
    {
     "data": {
      "image/png": "[encoded data removed]",
      "text/plain": [
       "<Figure size 640x480 with 1 Axes>"
      ]
     },
     "metadata": {},
     "output_type": "display_data"
    }
   ],
   "source": [
    "# Create a small DataFrame with a few datapoints\n",
    "data = {\n",
    "    'total_bill': [20, 35, 15, 40],\n",
    "    'tip': [3, 6, 2, 8],\n",
    "    'time': ['Lunch', 'Dinner', 'Lunch', 'Dinner']\n",
    "}\n",
    "df = pd.DataFrame(data)\n",
    "\n",
    "# Create a scatter plot with custom markers for each time category\n",
    "sns.scatterplot(x=\"total_bill\", y=\"tip\", hue=\"time\", style=\"time\", data=df,\n",
    "                     markers={'Dinner': '$\\u25A0$', 'Lunch': '$\\u25AC$'},\n",
    "                     s=100)\n",
    "\n",
    "# Customize the labels and title with specific font sizes\n",
    "plt.xlabel(\"Total Bill\", fontsize=14)\n",
    "plt.ylabel(\"Tip\", fontsize=14)\n",
    "plt.title(\"<You name>+Scatter Plot with Custom Markers (rectangle marker)\", fontsize=16)\n",
    "\n",
    "plt.show()"
   ]
  },
  {
   "cell_type": "markdown",
   "metadata": {},
   "source": [
    "### Practice: Please use Seaborn to implement the image in Slide 3.2.\n",
    "\n",
    "You need to include the following elements.\n",
    "1. Red dot point (your target)\n",
    "2. blue dot points\n",
    "3. blue rectangle points\n",
    "4. red rectangle points.\n",
    "\n",
    "**Please add your name to graph title**."
   ]
  },
  {
   "cell_type": "code",
   "execution_count": 50,
   "metadata": {},
   "outputs": [
    {
     "data": {
      "image/png": "[encoded data removed]",
      "text/plain": [
       "<Figure size 800x800 with 1 Axes>"
      ]
     },
     "metadata": {},
     "output_type": "display_data"
    }
   ],
   "source": [
    "#necessary imports\n",
    "import numpy as np\n",
    "import pandas as pd\n",
    "import seaborn as sns\n",
    "import matplotlib.pyplot as plt\n",
    "import matplotlib.patches as patches\n",
    "\n",
    "#random seed\n",
    "np.random.seed(42)\n",
    "\n",
    "#50 random blue dots\n",
    "blue_points = np.random.rand(50, 2) * 10\n",
    "\n",
    "#50 random blue rectangles\n",
    "blue_rectangle = np.random.rand(50, 2) * 10\n",
    "\n",
    "#target point\n",
    "target = np.array([[6, 6]])\n",
    "\n",
    "#50 random red rectangles\n",
    "red_rectangle = np.random.rand(50, 2) * 10\n",
    "\n",
    "#combine points into a dataset\n",
    "all_points = np.vstack([blue_points, target, blue_rectangle, red_rectangle])\n",
    "\n",
    "#create a DataFrame\n",
    "df1 = pd.DataFrame(all_points, columns=['x', 'y'])\n",
    "\n",
    "#create the scatter plot\n",
    "plt.figure(figsize=(8, 8))\n",
    "\n",
    "#plot blue dots and red target dot\n",
    "sns.scatterplot(x=blue_points[:, 0], y=blue_points[:, 1], color='blue', marker='o', s=100, legend=False)\n",
    "sns.scatterplot(x=target[:, 0], y=target[:, 1], color='red', marker='o', s=100, legend=False)\n",
    "\n",
    "#plot blue rectangles\n",
    "for point in blue_rectangle:\n",
    "    plt.gca().add_patch(patches.Rectangle((point[0] - 0.2, point[1] - 0.2), 0.15, 0.15, edgecolor='blue', facecolor='blue', lw=2))\n",
    "\n",
    "#plot red rectangles\n",
    "for point in red_rectangle:\n",
    "    plt.gca().add_patch(patches.Rectangle((point[0] - 0.2, point[1] - 0.2), 0.15, 0.15, edgecolor='red', facecolor='red', lw=2))\n",
    "\n",
    "#label the axes and set the title\n",
    "plt.xlabel(\"X Axis\", fontsize=14)\n",
    "plt.ylabel(\"Y Axis\", fontsize=14)\n",
    "plt.title(\"Fisher Bachman-Rhodes + Slide 3.2 Image Replication\", fontsize=16)\n",
    "\n",
    "#set the limits for the plot\n",
    "plt.xlim(0, 10)\n",
    "plt.ylim(0, 10)\n",
    "\n",
    "#display the plot\n",
    "plt.show()\n"
   ]
  }
 ],
 "metadata": {
  "kernelspec": {
   "display_name": "Python 3",
   "language": "python",
   "name": "python3"
  },
  "language_info": {
   "codemirror_mode": {
    "name": "ipython",
    "version": 3
   },
   "file_extension": ".py",
   "mimetype": "text/x-python",
   "name": "python",
   "nbconvert_exporter": "python",
   "pygments_lexer": "ipython3",
   "version": "3.12.0"
  }
 },
 "nbformat": 4,
 "nbformat_minor": 4
}
